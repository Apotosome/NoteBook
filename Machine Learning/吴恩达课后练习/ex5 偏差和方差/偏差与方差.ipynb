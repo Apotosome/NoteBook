{
 "cells": [
  {
   "cell_type": "markdown",
   "metadata": {},
   "source": [
    "# 正则化线性回归 Regularized Linear Regression"
   ]
  },
  {
   "cell_type": "markdown",
   "metadata": {},
   "source": [
    "在这个练习中，你将利用水库中水位的变化来预测从大坝中排除的水量"
   ]
  },
  {
   "cell_type": "markdown",
   "metadata": {},
   "source": [
    "## 可视化数据集 Visualizing the dataset"
   ]
  },
  {
   "cell_type": "code",
   "execution_count": 1,
   "metadata": {},
   "outputs": [],
   "source": [
    "import numpy as np\n",
    "import pandas as pd\n",
    "\n",
    "import seaborn as sns\n",
    "import matplotlib.pylab as plt\n",
    "\n",
    "from scipy.io import loadmat "
   ]
  },
  {
   "cell_type": "code",
   "execution_count": 2,
   "metadata": {},
   "outputs": [],
   "source": [
    "df = loadmat('ex5data1.mat')"
   ]
  },
  {
   "cell_type": "markdown",
   "metadata": {},
   "source": [
    "- 模型的训练集：X，Y \n",
    "- 用于确定正则化参数的交叉验证集：Xval，yval\n",
    "- 用于评估性能的测试集。模型在训练期间是不可见的：Xtest，ytest"
   ]
  },
  {
   "cell_type": "code",
   "execution_count": 3,
   "metadata": {},
   "outputs": [],
   "source": [
    "X = df['X']\n",
    "y = df['y']\n",
    "Xtest = df['Xtest']\n",
    "ytest = df['ytest']\n",
    "Xval = df['Xval']\n",
    "yval = df['yval']"
   ]
  },
  {
   "cell_type": "code",
   "execution_count": 4,
   "metadata": {},
   "outputs": [],
   "source": [
    "#将数据展平\n",
    "def load_data():\n",
    "    df = loadmat('ex5data1.mat')\n",
    "    return map(np.ravel,[df['X'],df['y'],df['Xval'],df['yval'],df['Xtest'],df['ytest']])\n",
    "#X, y, Xval, yval, Xtest, ytest = load_data()"
   ]
  },
  {
   "cell_type": "code",
   "execution_count": 5,
   "metadata": {},
   "outputs": [
    {
     "data": {
      "text/plain": [
       "((12, 1), (12, 1))"
      ]
     },
     "execution_count": 5,
     "metadata": {},
     "output_type": "execute_result"
    }
   ],
   "source": [
    "X.shape,y.shape"
   ]
  },
  {
   "cell_type": "code",
   "execution_count": 6,
   "metadata": {},
   "outputs": [
    {
     "data": {
      "text/plain": [
       "((21, 1), (21, 1), (21, 1), (21, 1))"
      ]
     },
     "execution_count": 6,
     "metadata": {},
     "output_type": "execute_result"
    }
   ],
   "source": [
    "Xtest.shape,ytest.shape,Xval.shape,yval.shape"
   ]
  },
  {
   "cell_type": "code",
   "execution_count": 7,
   "metadata": {},
   "outputs": [
    {
     "data": {
      "image/png": "[encoded data removed]",
      "text/plain": [
       "<Figure size 432x288 with 1 Axes>"
      ]
     },
     "metadata": {},
     "output_type": "display_data"
    }
   ],
   "source": [
    "sns.set(style='darkgrid')\n",
    "fig, ax = plt.subplots()\n",
    "ax.scatter(X,y,s=50,c='r',marker='x')\n",
    "\n",
    "\n",
    "ax.set_xlabel('Change in water level (x)')\n",
    "ax.set_ylabel('Water flowing out of the dam(y)')\n",
    "\n",
    "plt.show()"
   ]
  },
  {
   "cell_type": "markdown",
   "metadata": {},
   "source": [
    "## 代价函数"
   ]
  },
  {
   "cell_type": "markdown",
   "metadata": {},
   "source": [
    "线性回归代价函数："
   ]
  },
  {
   "cell_type": "markdown",
   "metadata": {},
   "source": [
    "$$\n",
    "J\\left( \\theta  \\right)=\\frac{1}{2m}\\sum\\limits_{i=1}^{m}{{{({h_\\theta}({{x}^{(i)}})-{{y}^{(i)}})}^{2}}}\\\\\n",
    "$$"
   ]
  },
  {
   "cell_type": "markdown",
   "metadata": {},
   "source": [
    "其中：\n",
    "$$\n",
    "h_\\theta\\left( x \\right)=\\theta^TX\\\\\n",
    "$$"
   ]
  },
  {
   "cell_type": "markdown",
   "metadata": {},
   "source": [
    "正则化线性回归的代价函数:"
   ]
  },
  {
   "cell_type": "markdown",
   "metadata": {},
   "source": [
    "$$\n",
    "J\\left( \\theta  \\right)=\\frac{1}{2m}\\sum\\limits_{i=1}^{m}{\\left[{{({h_\\theta}({{x}^{(i)}})-{{y}^{(i)}})}^{2}}\\right]+ \\frac{\\lambda}{2m}\\sum\\limits_{j=1}^{n}{\\theta _{j}^{2}}}\\\\\n",
    "$$"
   ]
  },
  {
   "cell_type": "code",
   "execution_count": 8,
   "metadata": {
    "scrolled": false
   },
   "outputs": [],
   "source": [
    "# 1.对数据进行预处理 添加新的一列\n",
    "X = np.insert(X.reshape(X.shape[0], 1), 0, values=np.ones(X.shape[0]),axis=1)\n",
    "Xtest = np.insert(Xtest.reshape(Xtest.shape[0], 1), 0, values=np.ones(Xtest.shape[0]),axis=1)\n",
    "Xval = np.insert(Xval.reshape(Xval.shape[0], 1), 0, values=np.ones(Xval.shape[0]), axis=1)"
   ]
  },
  {
   "cell_type": "code",
   "execution_count": 9,
   "metadata": {},
   "outputs": [],
   "source": [
    "# 或者使用以下代码\n",
    "#X, Xtest, Xval = [np.insert(i.reshape(i.shape[0],1), 0, values=np.ones(i.shape[0]), axis=1) for i in (X, Xtest, Xval)]"
   ]
  },
  {
   "cell_type": "code",
   "execution_count": 10,
   "metadata": {},
   "outputs": [],
   "source": [
    "# 2.初始化θ矩阵\n",
    "theta = np.ones(X.shape[1])"
   ]
  },
  {
   "cell_type": "code",
   "execution_count": 11,
   "metadata": {},
   "outputs": [],
   "source": [
    "# 3.转化为numpy矩阵\n",
    "X = np.matrix(X)\n",
    "y = np.matrix(y)\n",
    "theta = np.matrix(theta)"
   ]
  },
  {
   "cell_type": "code",
   "execution_count": 12,
   "metadata": {
    "scrolled": true
   },
   "outputs": [
    {
     "data": {
      "text/plain": [
       "((12, 2), (21, 2), (21, 2), (1, 2), (12, 1))"
      ]
     },
     "execution_count": 12,
     "metadata": {},
     "output_type": "execute_result"
    }
   ],
   "source": [
    "# 4.查看相关参数维度\n",
    "X.shape,Xtest.shape,Xval.shape,theta.shape,y.shape"
   ]
  },
  {
   "cell_type": "code",
   "execution_count": 13,
   "metadata": {},
   "outputs": [],
   "source": [
    "def computerCost(theta,X,y):\n",
    "    X = np.matrix(X)\n",
    "    y = np.matrix(y)\n",
    "    theta = np.matrix(theta)\n",
    "    \n",
    "    inner = (X * theta.T) - y\n",
    "    sum = np.sum(np.power(inner,2))\n",
    "    \n",
    "    return 1 / (2 * len(X)) * sum"
   ]
  },
  {
   "cell_type": "code",
   "execution_count": 14,
   "metadata": {},
   "outputs": [],
   "source": [
    "def computerCostReg(theta,X,y,Rate=1):\n",
    "    X = np.matrix(X)\n",
    "    y = np.matrix(y)\n",
    "    theta = np.matrix(theta)\n",
    "    \n",
    "    cost_inner = (X * theta.T) - y\n",
    "    cost = 1 / (2 * len(X)) * np.sum(np.power(cost_inner,2))\n",
    "    \n",
    "    Reg_inner = np.sum(np.power(theta[:,1:X.shape[0]], 2))\n",
    "    Reg = Rate / (2*len(X)) * Reg_inner\n",
    "    \n",
    "    return cost + Reg"
   ]
  },
  {
   "cell_type": "code",
   "execution_count": 15,
   "metadata": {},
   "outputs": [
    {
     "data": {
      "text/plain": [
       "303.9515255535976"
      ]
     },
     "execution_count": 15,
     "metadata": {},
     "output_type": "execute_result"
    }
   ],
   "source": [
    "# 3.计算代价函数\n",
    "computerCost(theta,X,y)"
   ]
  },
  {
   "cell_type": "code",
   "execution_count": 16,
   "metadata": {},
   "outputs": [
    {
     "data": {
      "text/plain": [
       "303.9931922202643"
      ]
     },
     "execution_count": 16,
     "metadata": {},
     "output_type": "execute_result"
    }
   ],
   "source": [
    "# 4.计算正则化代价函数\n",
    "computerCostReg(theta,X,y,1)"
   ]
  },
  {
   "cell_type": "markdown",
   "metadata": {},
   "source": [
    "## 梯度下降 Gradient Descent"
   ]
  },
  {
   "cell_type": "markdown",
   "metadata": {},
   "source": [
    "### 正则化梯度 regularized gradient"
   ]
  },
  {
   "cell_type": "markdown",
   "metadata": {},
   "source": [
    "$$\n",
    "\\frac{\\partial J(\\theta)}{\\partial \\theta_{0}}=\\frac{1}{m} \\sum_{i=1}^{m}\\left(h_{\\theta}\\left(x^{(i)}\\right)-y^{(i)}\\right) x_{j}^{(i)} \\quad \\text { for } j=0 \\\\\n",
    "\\frac{\\partial J(\\theta)}{\\partial \\theta_{j}}=\\left(\\frac{1}{m} \\sum_{i=1}^{m}\\left(h_{\\theta}\\left(x^{(i)}\\right)-y^{(i)}\\right) x_{j}^{(i)}\\right)+\\frac{\\lambda}{m} \\theta_{j} \\quad \\text { for } j \\geq 1\n",
    "$$"
   ]
  },
  {
   "cell_type": "markdown",
   "metadata": {},
   "source": [
    "其中：\n",
    "$$\n",
    "h_\\theta\\left( x \\right)=\\theta^TX\\\\\n",
    "$$"
   ]
  },
  {
   "cell_type": "markdown",
   "metadata": {},
   "source": [
    "注意，我们实际上没有在这个函数中执行梯度下降，我们仅仅在计算一个梯度步长。"
   ]
  },
  {
   "cell_type": "code",
   "execution_count": 17,
   "metadata": {},
   "outputs": [],
   "source": [
    "def gradientReg(theta,X,y,Rate=1):\n",
    "    X = np.matrix(X)\n",
    "    y = np.matrix(y)\n",
    "    theta = np.matrix(theta)\n",
    "    \n",
    "    \n",
    "    error = (X * theta.T) - y \n",
    "    paraters = theta.shape[1]\n",
    "    grad = np.zeros(paraters)\n",
    "    \n",
    "    for i in range(paraters):\n",
    "        inner  = (1 / len(X)) * np.sum(np.multiply(error, X[:,i]))\n",
    "        \n",
    "        if (i == 0):\n",
    "            grad[i] = inner\n",
    "        else:\n",
    "            Reg = (Rate / len(X)) / theta[:,i]\n",
    "            grad[i] = inner + Reg\n",
    "    return grad"
   ]
  },
  {
   "cell_type": "code",
   "execution_count": 18,
   "metadata": {
    "scrolled": true
   },
   "outputs": [
    {
     "data": {
      "text/plain": [
       "array([-15.30301567, 598.16741084])"
      ]
     },
     "execution_count": 18,
     "metadata": {},
     "output_type": "execute_result"
    }
   ],
   "source": [
    "gradientReg(theta,X,y,Rate=0)"
   ]
  },
  {
   "cell_type": "markdown",
   "metadata": {},
   "source": [
    "### 高级优化 Advanced Optimization"
   ]
  },
  {
   "cell_type": "markdown",
   "metadata": {},
   "source": [
    "正则化项  𝜆=0"
   ]
  },
  {
   "cell_type": "code",
   "execution_count": 19,
   "metadata": {},
   "outputs": [
    {
     "data": {
      "text/plain": [
       "     fun: 22.37390649510894\n",
       "     jac: array([ 2.39135078e-07, -1.24576619e-08])\n",
       " message: 'Converged (|f_n-f_(n-1)| ~= 0)'\n",
       "    nfev: 9\n",
       "     nit: 4\n",
       "  status: 1\n",
       " success: True\n",
       "       x: array([13.08790376,  0.36777923])"
      ]
     },
     "execution_count": 19,
     "metadata": {},
     "output_type": "execute_result"
    }
   ],
   "source": [
    "import scipy.optimize as opt\n",
    "result = opt.minimize(fun=computerCostReg,\n",
    "                      x0=theta,\n",
    "                      args=(X,y,0),\n",
    "                      method='TNC',\n",
    "                      jac=gradientReg,\n",
    "                      options={'disp': True}\n",
    "                     )\n",
    "result"
   ]
  },
  {
   "cell_type": "markdown",
   "metadata": {},
   "source": [
    "## 拟合线性回归 Fitting linear regression"
   ]
  },
  {
   "cell_type": "code",
   "execution_count": 20,
   "metadata": {},
   "outputs": [
    {
     "data": {
      "text/plain": [
       "array([13.08790376,  0.36777923])"
      ]
     },
     "execution_count": 20,
     "metadata": {},
     "output_type": "execute_result"
    }
   ],
   "source": [
    "final_theta = result.x\n",
    "final_theta"
   ]
  },
  {
   "cell_type": "code",
   "execution_count": 21,
   "metadata": {},
   "outputs": [],
   "source": [
    "x = np.linspace(df['X'].min(),df['X'].max(),100)\n",
    "f = final_theta[0] + (final_theta[1] * x)"
   ]
  },
  {
   "cell_type": "code",
   "execution_count": 22,
   "metadata": {},
   "outputs": [
    {
     "data": {
      "image/png": "[encoded data removed]",
      "text/plain": [
       "<Figure size 432x288 with 1 Axes>"
      ]
     },
     "metadata": {},
     "output_type": "display_data"
    }
   ],
   "source": [
    "sns.set(style='darkgrid')\n",
    "fig, ax = plt.subplots()\n",
    "ax.scatter(df['X'],df['y'],s=50,c='r',marker='x',label='Traning Date')\n",
    "ax.plot(x,f,'b',label = 'Prediction')\n",
    "\n",
    "ax.set_xlabel('Change in water level (x)')\n",
    "ax.set_ylabel('Water flowing out of the dam(y)')\n",
    "\n",
    "ax.legend(loc=2)\n",
    "plt.show()"
   ]
  },
  {
   "cell_type": "markdown",
   "metadata": {},
   "source": [
    "# 偏差和方差Bias-variance"
   ]
  },
  {
   "cell_type": "markdown",
   "metadata": {},
   "source": [
    "- **偏差Bisas：**描述的是预测值（估计值）的期望与真实值之间的差距。偏差越大，越偏离真实数据     ----      `训练集`\n",
    "\n",
    "- **方差Variance：**描述的是预测值的变化范围，离散程度，也就是离其期望值的距离。方差越大，数据的分布越分散     ----      `测试集`"
   ]
  },
  {
   "cell_type": "markdown",
   "metadata": {},
   "source": [
    "1. 使用训练集的子集来拟合应模型（X(1:n,:) and y(1:n)） \n",
    "\n",
    "2. 在计算训练代价和交叉验证代价时，没有用正则化\n",
    "\n",
    "3. 记住使用相同的训练集子集来计算训练代价\n"
   ]
  },
  {
   "cell_type": "markdown",
   "metadata": {},
   "source": [
    "Training error:\n",
    "$$\n",
    "J_{train}(\\theta) = \\frac{1}{2m}\\sum_\\limits{i=1}^{m}(h_{\\theta}(x^{(i)})-y^{(i)})^2\n",
    "$$\n",
    "Cross Validation error:\n",
    "$$\n",
    "J_{cv}(\\theta) = \\frac{1}{2m_{cv}}\\sum_\\limits{i=1}^{m}(h_{\\theta}(x^{(i)}_{cv})-y^{(i)}_{cv})^2\n",
    "$$"
   ]
  },
  {
   "cell_type": "code",
   "execution_count": 23,
   "metadata": {},
   "outputs": [],
   "source": [
    "m = X.shape[0]   # 训练集样本数量（m）"
   ]
  },
  {
   "cell_type": "code",
   "execution_count": 24,
   "metadata": {},
   "outputs": [
    {
     "data": {
      "text/plain": [
       "array([13.08790376,  0.36777923])"
      ]
     },
     "execution_count": 24,
     "metadata": {},
     "output_type": "execute_result"
    }
   ],
   "source": [
    "def LR(X,y,Rate=1):\n",
    "    theta = np.ones(X.shape[1])\n",
    "    result = opt.minimize(fun=computerCostReg,\n",
    "                      x0=theta,\n",
    "                      args=(X,y,Rate),\n",
    "                      method='TNC',\n",
    "                      jac=gradientReg,\n",
    "                      options={'disp': True}\n",
    "                     )\n",
    "    return result.x\n",
    "LR(X,y,Rate=0)"
   ]
  },
  {
   "cell_type": "markdown",
   "metadata": {},
   "source": [
    "为了绘制学习曲线 , 需要计算不同样本数量m下的最小化代价函数对应的θ"
   ]
  },
  {
   "cell_type": "code",
   "execution_count": 25,
   "metadata": {},
   "outputs": [],
   "source": [
    "def tc_cv_cost(X,y,Xval,yval,Rate):\n",
    "    trainingCost, cvCost = [], []\n",
    "    m = X.shape[0]\n",
    "    \n",
    "    for i in range(1,m+1):\n",
    "        theta = LR(X[:i,],y[:i],Rate)   \n",
    "        tc = computerCost(theta,X[:i,:],y[:i])\n",
    "        cv = computerCost(theta,Xval,yval)\n",
    "\n",
    "        trainingCost.append(tc)\n",
    "        cvCost.append(cv) \n",
    "    return trainingCost,cvCost"
   ]
  },
  {
   "cell_type": "markdown",
   "metadata": {},
   "source": [
    "## 学习曲线 Learning curves"
   ]
  },
  {
   "cell_type": "code",
   "execution_count": 26,
   "metadata": {},
   "outputs": [],
   "source": [
    "def plot_learning_curves(X,y,Xval,yval,Rate):\n",
    "    trainingCost,cvCost = tc_cv_cost(X,y,Xval,yval,Rate)\n",
    "    \n",
    "    fig, ax = plt.subplots()\n",
    "    plt.plot(np.arange(1,m+1), trainingCost, label='training cost')\n",
    "    plt.plot(np.arange(1,m+1), cvCost, label='Cross-validation cost')\n",
    "\n",
    "    plt.legend(loc=1)\n",
    "    ax.set_xlabel('m(training set size)')\n",
    "    ax.set_ylabel('error')\n",
    "    plt.show()"
   ]
  },
  {
   "cell_type": "code",
   "execution_count": 27,
   "metadata": {},
   "outputs": [
    {
     "data": {
      "image/png": "[encoded data removed]",
      "text/plain": [
       "<Figure size 432x288 with 1 Axes>"
      ]
     },
     "metadata": {},
     "output_type": "display_data"
    }
   ],
   "source": [
    "plot_learning_curves(X,y,Xval,yval,Rate=0)"
   ]
  },
  {
   "cell_type": "markdown",
   "metadata": {},
   "source": [
    "- 当训练集增大时，误差将会增加\n",
    "- 随着集合数据的增加，最终的误差会渐渐趋向于平稳\n",
    "\n",
    "- 随着训练集的增加，交叉验证集的误差将会慢慢减小知道趋向于某一个值，因为拟合数据越多，就越能拟合出合适的假设。"
   ]
  },
  {
   "cell_type": "markdown",
   "metadata": {},
   "source": [
    "根据上图学习曲线可知，当$m$很大时，训练集和交叉验证集的误差会非常接近。在这种情况属于**高偏差/欠拟合**"
   ]
  },
  {
   "cell_type": "markdown",
   "metadata": {},
   "source": [
    "# 多项式回归 Polynomial regression"
   ]
  },
  {
   "cell_type": "markdown",
   "metadata": {},
   "source": [
    "## 特征映射 feature mapping"
   ]
  },
  {
   "cell_type": "markdown",
   "metadata": {},
   "source": [
    "如果样本量多，逻辑回归问题很复杂，而原始特征只有$x_1$可以用多项式创建更多的特征。因为更多的特征进行逻辑回归时，得到的分割线可以是任意高阶函数的形状。"
   ]
  },
  {
   "cell_type": "markdown",
   "metadata": {},
   "source": [
    "$$\n",
    "\\text { mapFeature }(x)=\\left[\\begin{array}{c}\n",
    "1 \\\\\n",
    "x_{1} \\\\\n",
    "x_{1}^{2} \\\\\n",
    "x_{1}^{3} \\\\\n",
    "\\vdots \\\\\n",
    "x_{1}^{6}\n",
    "\\end{array}\\right]\n",
    "$$"
   ]
  },
  {
   "cell_type": "markdown",
   "metadata": {},
   "source": [
    "- 生成多项式"
   ]
  },
  {
   "cell_type": "code",
   "execution_count": 28,
   "metadata": {},
   "outputs": [],
   "source": [
    "X, y, Xval, yval, Xtest, ytest = load_data()   # 注意一定要展平数据"
   ]
  },
  {
   "cell_type": "code",
   "execution_count": 29,
   "metadata": {},
   "outputs": [],
   "source": [
    "def poly_features(X, power):\n",
    "    data = {'f{}'.format(i): np.power(X, i) for i in range(1, power + 1)}\n",
    "    return pd.DataFrame(data)"
   ]
  },
  {
   "cell_type": "code",
   "execution_count": 30,
   "metadata": {
    "scrolled": true
   },
   "outputs": [
    {
     "data": {
      "text/html": [
       "<div>\n",
       "<style scoped>\n",
       "    .dataframe tbody tr th:only-of-type {\n",
       "        vertical-align: middle;\n",
       "    }\n",
       "\n",
       "    .dataframe tbody tr th {\n",
       "        vertical-align: top;\n",
       "    }\n",
       "\n",
       "    .dataframe thead th {\n",
       "        text-align: right;\n",
       "    }\n",
       "</style>\n",
       "<table border=\"1\" class=\"dataframe\">\n",
       "  <thead>\n",
       "    <tr style=\"text-align: right;\">\n",
       "      <th></th>\n",
       "      <th>f1</th>\n",
       "      <th>f2</th>\n",
       "      <th>f3</th>\n",
       "      <th>f4</th>\n",
       "      <th>f5</th>\n",
       "    </tr>\n",
       "  </thead>\n",
       "  <tbody>\n",
       "    <tr>\n",
       "      <td>0</td>\n",
       "      <td>-15.936758</td>\n",
       "      <td>253.980260</td>\n",
       "      <td>-4047.621971</td>\n",
       "      <td>6.450597e+04</td>\n",
       "      <td>-1.028016e+06</td>\n",
       "    </tr>\n",
       "    <tr>\n",
       "      <td>1</td>\n",
       "      <td>-29.152979</td>\n",
       "      <td>849.896197</td>\n",
       "      <td>-24777.006175</td>\n",
       "      <td>7.223235e+05</td>\n",
       "      <td>-2.105788e+07</td>\n",
       "    </tr>\n",
       "    <tr>\n",
       "      <td>2</td>\n",
       "      <td>36.189549</td>\n",
       "      <td>1309.683430</td>\n",
       "      <td>47396.852168</td>\n",
       "      <td>1.715271e+06</td>\n",
       "      <td>6.207487e+07</td>\n",
       "    </tr>\n",
       "  </tbody>\n",
       "</table>\n",
       "</div>"
      ],
      "text/plain": [
       "          f1           f2            f3            f4            f5\n",
       "0 -15.936758   253.980260  -4047.621971  6.450597e+04 -1.028016e+06\n",
       "1 -29.152979   849.896197 -24777.006175  7.223235e+05 -2.105788e+07\n",
       "2  36.189549  1309.683430  47396.852168  1.715271e+06  6.207487e+07"
      ]
     },
     "execution_count": 30,
     "metadata": {},
     "output_type": "execute_result"
    }
   ],
   "source": [
    "poly_features(X, 5)[:3] # 分别是x^1,x^2,x^3,x^4,x^5"
   ]
  },
  {
   "cell_type": "markdown",
   "metadata": {},
   "source": [
    "2. 特征归一化\n",
    "       一般的解决方法：均值归一化mean normalization"
   ]
  },
  {
   "cell_type": "markdown",
   "metadata": {},
   "source": [
    "\n",
    "$$\n",
    "{{x}_{i}}=\\frac{{{x}_{i}}-{{\\mu}_{i}}}{S_n}\n",
    "$$"
   ]
  },
  {
   "cell_type": "code",
   "execution_count": 31,
   "metadata": {},
   "outputs": [],
   "source": [
    "# df.apply() 遍历DataFrame的元素 lambda表达式 默认列遍历\n",
    "def normalization_features(df):\n",
    "    normalization = df.apply(lambda col : (col - col.mean()) / col.std())\n",
    "    return normalization.iloc[:,:].values  # 转化为列表类型"
   ]
  },
  {
   "cell_type": "markdown",
   "metadata": {},
   "source": [
    "- 多项式映射 Polynomial mapping"
   ]
  },
  {
   "cell_type": "code",
   "execution_count": 32,
   "metadata": {},
   "outputs": [],
   "source": [
    "power = 8"
   ]
  },
  {
   "cell_type": "code",
   "execution_count": 33,
   "metadata": {},
   "outputs": [],
   "source": [
    "# 准备多项式回归数据\n",
    "def prepare_poly_data(*args, power):\n",
    "    def prepare(x):\n",
    "        # 生成多项式\n",
    "        df = poly_features(x,power)\n",
    "        # 特征归一化\n",
    "        nor = normalization_features(df)\n",
    "        # 添加截距项\n",
    "        return np.insert(nor, 0, np.ones(nor.shape[0]), axis=1)\n",
    "    return [prepare(x) for x in args]        "
   ]
  },
  {
   "cell_type": "code",
   "execution_count": 34,
   "metadata": {},
   "outputs": [
    {
     "data": {
      "text/plain": [
       "((12,), (12, 9), (21, 9))"
      ]
     },
     "execution_count": 34,
     "metadata": {},
     "output_type": "execute_result"
    }
   ],
   "source": [
    "X_poly,Xval_poly,Xtest_poly = prepare_poly_data(X,Xval,Xtest,power=power)\n",
    "X.shape,X_poly.shape,Xval_poly.shape"
   ]
  },
  {
   "cell_type": "markdown",
   "metadata": {},
   "source": [
    "## 拟合多项式回归 Fitting Polynomial regression"
   ]
  },
  {
   "cell_type": "markdown",
   "metadata": {},
   "source": [
    "正则化线性回归的代价函数:\n",
    "$$\n",
    "J\\left( \\theta  \\right)=\\frac{1}{2m}\\sum\\limits_{i=1}^{m}{\\left[{{({h_\\theta}({{x}^{(i)}})-{{y}^{(i)}})}^{2}}\\right]+ \\frac{\\lambda}{2m}\\sum\\limits_{j=1}^{n}{\\theta _{j}^{2}}}\\\\\n",
    "$$"
   ]
  },
  {
   "cell_type": "code",
   "execution_count": 35,
   "metadata": {},
   "outputs": [],
   "source": [
    "def cost(theta, X, y):\n",
    "\n",
    "    m = X.shape[0]\n",
    "\n",
    "    inner = X @ theta - y  # R(m*1)\n",
    "\n",
    "    square_sum = inner.T @ inner\n",
    "    cost = square_sum / (2 * m)\n",
    "\n",
    "    return cost"
   ]
  },
  {
   "cell_type": "code",
   "execution_count": 36,
   "metadata": {},
   "outputs": [],
   "source": [
    "def regularized_cost(theta, X, y, l=1):\n",
    "    m = X.shape[0]\n",
    "\n",
    "    inner = X @ theta - y  # R(m*1)\n",
    "    square_sum = inner.T @ inner\n",
    "    cost = square_sum / (2 * m)\n",
    "    \n",
    "    regularized_term = (l / (2 * m)) * np.power(theta[1:], 2).sum()\n",
    "\n",
    "    return cost + regularized_term"
   ]
  },
  {
   "cell_type": "markdown",
   "metadata": {},
   "source": [
    "正则化梯度:\n",
    "$$\n",
    "\\frac{\\partial J(\\theta)}{\\partial \\theta_{0}}=\\frac{1}{m} \\sum_{i=1}^{m}\\left(h_{\\theta}\\left(x^{(i)}\\right)-y^{(i)}\\right) x_{j}^{(i)} \\quad \\text { for } j=0 \\\\\n",
    "\\frac{\\partial J(\\theta)}{\\partial \\theta_{j}}=\\left(\\frac{1}{m} \\sum_{i=1}^{m}\\left(h_{\\theta}\\left(x^{(i)}\\right)-y^{(i)}\\right) x_{j}^{(i)}\\right)+\\frac{\\lambda}{m} \\theta_{j} \\quad \\text { for } j \\geq 1\n",
    "$$"
   ]
  },
  {
   "cell_type": "code",
   "execution_count": 37,
   "metadata": {},
   "outputs": [],
   "source": [
    "def regularized_gradient(theta, X, y, l=1):\n",
    "    m = X.shape[0]\n",
    "\n",
    "    regularized_term = theta.copy()  # same shape as theta\n",
    "    regularized_term[0] = 0  # don't regularize intercept theta\n",
    "\n",
    "    regularized_term = (l / m) * regularized_term\n",
    "    \n",
    "    inner = X.T @ (X @ theta - y)  # (m,n).T @ (m, 1) -> (n, 1)\n",
    "    gradient = inner / m\n",
    "\n",
    "    return gradient + regularized_term"
   ]
  },
  {
   "cell_type": "code",
   "execution_count": 38,
   "metadata": {},
   "outputs": [],
   "source": [
    "def linear_regression_np(X, y, l=1):\n",
    "    theta = np.ones(X.shape[1])\n",
    "\n",
    "    res = opt.minimize(fun=regularized_cost,\n",
    "                       x0=theta,\n",
    "                       args=(X, y, l),\n",
    "                       method='TNC',\n",
    "                       jac=regularized_gradient,\n",
    "                       options={'disp': True})\n",
    "    return res.x\n"
   ]
  },
  {
   "cell_type": "code",
   "execution_count": 39,
   "metadata": {
    "scrolled": false
   },
   "outputs": [
    {
     "data": {
      "text/plain": [
       "array([11.21758779,  8.58517817,  5.21269495,  3.59111706,  2.28294428,\n",
       "        1.76030057,  1.0681314 ,  1.10762823,  0.39399185])"
      ]
     },
     "execution_count": 39,
     "metadata": {},
     "output_type": "execute_result"
    }
   ],
   "source": [
    "theta_poly = linear_regression_np(X_poly, y)\n",
    "theta_poly"
   ]
  },
  {
   "cell_type": "markdown",
   "metadata": {},
   "source": [
    "##  学习曲线 Learning curves"
   ]
  },
  {
   "cell_type": "markdown",
   "metadata": {},
   "source": [
    "### 𝜆=0"
   ]
  },
  {
   "cell_type": "markdown",
   "metadata": {},
   "source": [
    "我们没有使用正则化，所以  𝜆=0"
   ]
  },
  {
   "cell_type": "code",
   "execution_count": 40,
   "metadata": {},
   "outputs": [],
   "source": [
    "def plot_learning_curve(X, y, Xval, yval, l=0):\n",
    "    training_cost, cv_cost = [], []\n",
    "    m = X.shape[0]\n",
    "\n",
    "    for i in range(1, m + 1):\n",
    "        res = linear_regression_np(X[:i, :], y[:i], l=l)\n",
    "\n",
    "        tc = cost(res, X[:i, :], y[:i])\n",
    "        cv = cost(res, Xval, yval)\n",
    "\n",
    "        training_cost.append(tc)\n",
    "        cv_cost.append(cv)\n",
    "\n",
    "    plt.plot(np.arange(1, m + 1), training_cost, label='training cost')\n",
    "    plt.plot(np.arange(1, m + 1), cv_cost, label='cv cost')\n",
    "    plt.legend(loc=1)\n"
   ]
  },
  {
   "cell_type": "code",
   "execution_count": 41,
   "metadata": {
    "scrolled": true
   },
   "outputs": [
    {
     "data": {
      "image/png": "[encoded data removed]",
      "text/plain": [
       "<Figure size 432x288 with 1 Axes>"
      ]
     },
     "metadata": {},
     "output_type": "display_data"
    }
   ],
   "source": [
    "plot_learning_curve(X_poly, y, Xval_poly, yval, l=0)\n",
    "plt.show()"
   ]
  },
  {
   "cell_type": "markdown",
   "metadata": {},
   "source": [
    "根据上图可以观察到训练集代价过低，发生了过拟合"
   ]
  },
  {
   "cell_type": "markdown",
   "metadata": {},
   "source": [
    "### 𝜆=1"
   ]
  },
  {
   "cell_type": "code",
   "execution_count": 42,
   "metadata": {},
   "outputs": [
    {
     "data": {
      "image/png": "[encoded data removed]",
      "text/plain": [
       "<Figure size 432x288 with 1 Axes>"
      ]
     },
     "metadata": {},
     "output_type": "display_data"
    }
   ],
   "source": [
    "plot_learning_curve(X_poly, y, Xval_poly, yval, l=1)\n",
    "plt.show()"
   ]
  },
  {
   "cell_type": "markdown",
   "metadata": {},
   "source": [
    "根据上图可以观察到训练集代价增加，减轻了过拟合问题"
   ]
  },
  {
   "cell_type": "markdown",
   "metadata": {},
   "source": [
    "### 𝜆=100"
   ]
  },
  {
   "cell_type": "code",
   "execution_count": 43,
   "metadata": {},
   "outputs": [
    {
     "data": {
      "image/png": "[encoded data removed]",
      "text/plain": [
       "<Figure size 432x288 with 1 Axes>"
      ]
     },
     "metadata": {},
     "output_type": "display_data"
    }
   ],
   "source": [
    "plot_learning_curve(X_poly, y, Xval_poly, yval, l=100)\n",
    "plt.show()"
   ]
  },
  {
   "cell_type": "markdown",
   "metadata": {},
   "source": [
    "根据上图可以观察到发生欠拟合问题"
   ]
  },
  {
   "cell_type": "markdown",
   "metadata": {},
   "source": [
    "## 找到最佳的  𝜆"
   ]
  },
  {
   "cell_type": "code",
   "execution_count": 44,
   "metadata": {},
   "outputs": [],
   "source": [
    "lambda_candidate = [0, 0.001, 0.003, 0.01, 0.03, 0.1, 0.3, 1, 3, 10]\n",
    "training_cost, cv_cost = [], []"
   ]
  },
  {
   "cell_type": "code",
   "execution_count": 45,
   "metadata": {},
   "outputs": [],
   "source": [
    "def plot_cost_lambda(X, y, Xval, yval, l=0):\n",
    "    m = X.shape[0]\n",
    "    for i in lambda_candidate:\n",
    "        res = linear_regression_np(X_poly, y, i)\n",
    "\n",
    "        tc = cost(res, X_poly, y)\n",
    "        cv = cost(res, Xval_poly, yval)\n",
    "\n",
    "        training_cost.append(tc)\n",
    "        cv_cost.append(cv)\n",
    "\n",
    "    plt.xlabel('lambda')\n",
    "    plt.ylabel('cost')\n",
    "    \n",
    "    plt.plot(lambda_candidate, training_cost, label='training cost')\n",
    "    plt.plot(lambda_candidate, cv_cost, label='cv cost')\n",
    "    \n",
    "    plt.legend(loc=2)\n",
    "    plt.show()"
   ]
  },
  {
   "cell_type": "code",
   "execution_count": 46,
   "metadata": {},
   "outputs": [
    {
     "data": {
      "image/png": "[encoded data removed]",
      "text/plain": [
       "<Figure size 432x288 with 1 Axes>"
      ]
     },
     "metadata": {},
     "output_type": "display_data"
    }
   ],
   "source": [
    "plot_cost_lambda(X_poly, y, Xval_poly, yval, l=0)"
   ]
  },
  {
   "cell_type": "code",
   "execution_count": 47,
   "metadata": {},
   "outputs": [
    {
     "name": "stdout",
     "output_type": "stream",
     "text": [
      "test cost(l=0) = 9.982275423899827\n",
      "test cost(l=0.001) = 10.96403493885111\n",
      "test cost(l=0.003) = 11.264458872657682\n",
      "test cost(l=0.01) = 10.880094765571297\n",
      "test cost(l=0.03) = 10.022266931655883\n",
      "test cost(l=0.1) = 8.632063139750382\n",
      "test cost(l=0.3) = 7.336640278544401\n",
      "test cost(l=1) = 7.466289435179381\n",
      "test cost(l=3) = 11.64393193727906\n",
      "test cost(l=10) = 27.715080291767972\n"
     ]
    }
   ],
   "source": [
    "for i in lambda_candidate:\n",
    "    theta = linear_regression_np(X_poly, y, i)\n",
    "    print('test cost(l={}) = {}'.format(i, cost(theta, Xtest_poly, ytest)))"
   ]
  },
  {
   "cell_type": "markdown",
   "metadata": {},
   "source": [
    "调参后，  𝜆=0.3  是最优选择，这个时候测试代价最小"
   ]
  }
 ],
 "metadata": {
  "kernelspec": {
   "display_name": "Python 3",
   "language": "python",
   "name": "python3"
  },
  "language_info": {
   "codemirror_mode": {
    "name": "ipython",
    "version": 3
   },
   "file_extension": ".py",
   "mimetype": "text/x-python",
   "name": "python",
   "nbconvert_exporter": "python",
   "pygments_lexer": "ipython3",
   "version": "3.7.4"
  },
  "toc": {
   "base_numbering": 1,
   "nav_menu": {},
   "number_sections": true,
   "sideBar": true,
   "skip_h1_title": false,
   "title_cell": "Table of Contents",
   "title_sidebar": "Contents",
   "toc_cell": false,
   "toc_position": {
    "height": "calc(100% - 180px)",
    "left": "10px",
    "top": "150px",
    "width": "226.667px"
   },
   "toc_section_display": true,
   "toc_window_display": false
  }
 },
 "nbformat": 4,
 "nbformat_minor": 2
}
